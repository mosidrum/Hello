{
  "nbformat": 4,
  "nbformat_minor": 0,
  "metadata": {
    "colab": {
      "name": "Untitled1.ipynb",
      "provenance": [],
      "collapsed_sections": [],
      "authorship_tag": "ABX9TyPT61A+pM1vsjOPA4ooLHdR",
      "include_colab_link": true
    },
    "kernelspec": {
      "name": "python3",
      "display_name": "Python 3"
    },
    "language_info": {
      "name": "python"
    }
  },
  "cells": [
    {
      "cell_type": "markdown",
      "metadata": {
        "id": "view-in-github",
        "colab_type": "text"
      },
      "source": [
        "<a href=\"https://colab.research.google.com/github/mosidrum/hello/blob/main/Python%20challenge.ipynb\" target=\"_parent\"><img src=\"https://colab.research.google.com/assets/colab-badge.svg\" alt=\"Open In Colab\"/></a>"
      ]
    },
    {
      "cell_type": "code",
      "execution_count": null,
      "metadata": {
        "colab": {
          "base_uri": "https://localhost:8080/"
        },
        "id": "K8s5hIPrbNcI",
        "outputId": "df2f7e8b-f652-4425-af09-138ac3caeb92"
      },
      "outputs": [
        {
          "output_type": "stream",
          "name": "stdout",
          "text": [
            "0.25\n"
          ]
        }
      ],
      "source": [
        "#Python challenge\n",
        "# 1\n",
        "\n",
        "#given Value as shown below, Calculate 2b-3c/sqrA\n",
        "a=4\n",
        "b=5\n",
        "c=6.5\n",
        "x= 2*b-3*c/(math.sqrt(a))\n",
        "print(x)\n"
      ]
    },
    {
      "cell_type": "code",
      "source": [
        "#2\n",
        "pie=7.2\n",
        "r=13\n",
        "x=7.2*13**2\n",
        "print(\"The area of circle wih radius 7.2, equals\",x)\n"
      ],
      "metadata": {
        "colab": {
          "base_uri": "https://localhost:8080/"
        },
        "id": "M9mDEbEijfUv",
        "outputId": "6cbe423a-e7af-40e6-86f5-bc9c940c85ea"
      },
      "execution_count": null,
      "outputs": [
        {
          "output_type": "stream",
          "name": "stdout",
          "text": [
            "The area of circle wih radius 7.2, equals 1216.8\n"
          ]
        }
      ]
    },
    {
      "cell_type": "code",
      "source": [
        "#3\n",
        "#Given the word Indoctrination\n",
        "word=\"i\",\"n\",\"d\",\"o\",\"c\",\"t\",\"r\",\"i\",\"n\",\"a\",\"t\",\"i\",\"o\",\"n\"\n",
        "print(word[6])"
      ],
      "metadata": {
        "colab": {
          "base_uri": "https://localhost:8080/"
        },
        "id": "8ivFWgJ4lFVN",
        "outputId": "caf05466-8349-46c5-cbc7-f871a9ab25a0"
      },
      "execution_count": null,
      "outputs": [
        {
          "output_type": "stream",
          "name": "stdout",
          "text": [
            "r\n"
          ]
        }
      ]
    },
    {
      "cell_type": "code",
      "source": [
        "#3\n",
        "#Given the word Indoctrination\n",
        "word=\"i\",\"n\",\"d\",\"o\",\"c\",\"t\",\"r\",\"i\",\"n\",\"a\",\"t\",\"i\",\"o\",\"n\"\n",
        "print(word[8:13])"
      ],
      "metadata": {
        "colab": {
          "base_uri": "https://localhost:8080/"
        },
        "id": "5pYjBPZ7kHsl",
        "outputId": "a3caa33b-6aa4-4eb5-a049-358c49f559d8"
      },
      "execution_count": null,
      "outputs": [
        {
          "output_type": "stream",
          "name": "stdout",
          "text": [
            "('n', 'a', 't', 'i', 'o')\n"
          ]
        }
      ]
    },
    {
      "cell_type": "code",
      "source": [
        "#3\n",
        "#Given the word Indoctrination\n",
        "word=\"i\",\"n\",\"d\",\"o\",\"c\",\"t\",\"r\",\"i\",\"n\",\"a\",\"t\",\"i\",\"o\",\"n\"\n",
        "print(word[1:6])"
      ],
      "metadata": {
        "colab": {
          "base_uri": "https://localhost:8080/"
        },
        "id": "Ui0amledkLgf",
        "outputId": "e42438b0-4f44-47ad-d212-93b1cca94d12"
      },
      "execution_count": null,
      "outputs": [
        {
          "output_type": "stream",
          "name": "stdout",
          "text": [
            "('n', 'd', 'o', 'c', 't')\n"
          ]
        }
      ]
    },
    {
      "cell_type": "code",
      "source": [
        "#3\n",
        "#Given the word Indoctrination\n",
        "word=\"i\",\"n\",\"d\",\"o\",\"c\",\"t\",\"r\",\"i\",\"n\",\"a\",\"t\",\"i\",\"o\",\"n\"\n",
        "print(word[2:12:2])"
      ],
      "metadata": {
        "colab": {
          "base_uri": "https://localhost:8080/"
        },
        "id": "7bpib_j6k_jF",
        "outputId": "ff03aa4c-4b99-46b7-883d-f8c5acf8eb83"
      },
      "execution_count": null,
      "outputs": [
        {
          "output_type": "stream",
          "name": "stdout",
          "text": [
            "('d', 'c', 'r', 'n', 't')\n"
          ]
        }
      ]
    },
    {
      "cell_type": "code",
      "source": [
        "#Given the word Indoctrination\n",
        "word=\"i\",\"n\",\"d\",\"o\",\"c\",\"t\",\"r\",\"i\",\"n\",\"a\",\"t\",\"i\",\"o\",\"n\"\n",
        "for i in range(len(word)-1, -1, -1):     \n",
        "    print(word[i]),         "
      ],
      "metadata": {
        "colab": {
          "base_uri": "https://localhost:8080/"
        },
        "id": "ovgQVK60_QVF",
        "outputId": "f9dc0f41-9c14-4a08-972f-68a8c7bded14"
      },
      "execution_count": null,
      "outputs": [
        {
          "output_type": "stream",
          "name": "stdout",
          "text": [
            "n\n",
            "o\n",
            "i\n",
            "t\n",
            "a\n",
            "n\n",
            "i\n",
            "r\n",
            "t\n",
            "c\n",
            "o\n",
            "d\n",
            "n\n",
            "i\n"
          ]
        }
      ]
    },
    {
      "cell_type": "code",
      "source": [
        "#4\n",
        "#Given the word Nothing is constant apart from change\n",
        "word=[\"Nothing\", \"is\", \"contant\", \"apart\", \"from\", \"change\"]\n",
        "print(word[0])\n",
        "print(word[5])"
      ],
      "metadata": {
        "id": "wsgHpkAzEjGS",
        "colab": {
          "base_uri": "https://localhost:8080/"
        },
        "outputId": "256ebedf-8684-4ea0-ac9a-65144ce982c9"
      },
      "execution_count": 18,
      "outputs": [
        {
          "output_type": "stream",
          "name": "stdout",
          "text": [
            "Nothing\n",
            "change\n"
          ]
        }
      ]
    },
    {
      "cell_type": "code",
      "source": [
        "#5\n",
        "items=[\"fan\",\"can\", \"book\", \"radio\", \"socket\", \"plug\", \"cable\", \"biro\", \"shirt\" ]\n",
        "print(len(items))"
      ],
      "metadata": {
        "id": "neGkJqoqEkD7",
        "colab": {
          "base_uri": "https://localhost:8080/"
        },
        "outputId": "ee8b0126-e54d-43e7-ba49-36fc16879cd8"
      },
      "execution_count": 19,
      "outputs": [
        {
          "output_type": "stream",
          "name": "stdout",
          "text": [
            "9\n"
          ]
        }
      ]
    },
    {
      "cell_type": "code",
      "source": [
        "print(items[2])\n",
        "print(items[6])"
      ],
      "metadata": {
        "colab": {
          "base_uri": "https://localhost:8080/"
        },
        "id": "rk_gbv25Ftr_",
        "outputId": "0ebbbfc0-8bf6-49a8-9cf5-bbb57f42a49f"
      },
      "execution_count": 24,
      "outputs": [
        {
          "output_type": "stream",
          "name": "stdout",
          "text": [
            "book\n",
            "cable\n"
          ]
        }
      ]
    },
    {
      "cell_type": "code",
      "source": [
        "# adding a new item \n",
        "items=[\"fan\",\"can\", \"book\", \"radio\", \"socket\", \"plug\", \"cable\", \"biro\", \"shirt\" ]\n",
        "items.append(\"clock\")\n",
        "print(items)"
      ],
      "metadata": {
        "colab": {
          "base_uri": "https://localhost:8080/"
        },
        "id": "vuAvIsS0GBej",
        "outputId": "5502dbe3-b561-47d3-dfa1-490a0f191f0f"
      },
      "execution_count": 34,
      "outputs": [
        {
          "output_type": "stream",
          "name": "stdout",
          "text": [
            "['fan', 'can', 'book', 'radio', 'socket', 'plug', 'cable', 'biro', 'shirt', 'clock']\n"
          ]
        }
      ]
    },
    {
      "cell_type": "code",
      "source": [
        "# replacing an item in the list\n",
        "items=[\"fan\",\"can\", \"book\", \"radio\", \"socket\", \"plug\", \"cable\", \"biro\", \"shirt\" ]\n",
        "items[4]=\"blanket\"\n",
        "print(items)"
      ],
      "metadata": {
        "colab": {
          "base_uri": "https://localhost:8080/"
        },
        "id": "fD9ukMAEHKDv",
        "outputId": "296149e6-d945-4a84-e58c-d8390c4e736b"
      },
      "execution_count": 42,
      "outputs": [
        {
          "output_type": "stream",
          "name": "stdout",
          "text": [
            "['fan', 'can', 'book', 'radio', 'blanket', 'plug', 'cable', 'biro', 'shirt']\n"
          ]
        }
      ]
    },
    {
      "cell_type": "code",
      "source": [
        "# removing an item\n",
        "items.remove(\"shirt\")\n",
        "print(items)"
      ],
      "metadata": {
        "colab": {
          "base_uri": "https://localhost:8080/"
        },
        "id": "fSpzw1FtJejA",
        "outputId": "e94b119e-ed04-465f-cfe8-eb10a0b61b60"
      },
      "execution_count": 43,
      "outputs": [
        {
          "output_type": "stream",
          "name": "stdout",
          "text": [
            "['fan', 'can', 'book', 'radio', 'blanket', 'plug', 'cable', 'biro']\n"
          ]
        }
      ]
    },
    {
      "cell_type": "code",
      "source": [
        "# removing fan and plug\n",
        "items.remove(\"fan\")\n",
        "items.remove(\"plug\")\n",
        "print(items)"
      ],
      "metadata": {
        "colab": {
          "base_uri": "https://localhost:8080/"
        },
        "id": "62PP_lc6KVsz",
        "outputId": "287c7d7d-7add-420a-a245-dc28b39a090f"
      },
      "execution_count": 44,
      "outputs": [
        {
          "output_type": "stream",
          "name": "stdout",
          "text": [
            "['can', 'book', 'radio', 'blanket', 'cable', 'biro']\n"
          ]
        }
      ]
    },
    {
      "cell_type": "code",
      "source": [
        "# sorting items\n",
        "items.sort()\n",
        "print(items)"
      ],
      "metadata": {
        "colab": {
          "base_uri": "https://localhost:8080/"
        },
        "id": "lVpOZtMRL_yY",
        "outputId": "7466bf5f-bc70-4ad6-a20a-9e80a4430b12"
      },
      "execution_count": 45,
      "outputs": [
        {
          "output_type": "stream",
          "name": "stdout",
          "text": [
            "['biro', 'blanket', 'book', 'cable', 'can', 'radio']\n"
          ]
        }
      ]
    },
    {
      "cell_type": "code",
      "source": [
        "# Sorting the first initial array\n",
        "items=[\"fan\",\"can\", \"book\", \"radio\", \"socket\", \"plug\", \"cable\", \"biro\", \"shirt\" ]\n",
        "items.sort()\n",
        "print(items)"
      ],
      "metadata": {
        "colab": {
          "base_uri": "https://localhost:8080/"
        },
        "id": "tcvej5J5Mgv5",
        "outputId": "3d71670f-ea6b-4121-d351-fbafcad627e2"
      },
      "execution_count": 46,
      "outputs": [
        {
          "output_type": "stream",
          "name": "stdout",
          "text": [
            "['biro', 'book', 'cable', 'can', 'fan', 'plug', 'radio', 'shirt', 'socket']\n"
          ]
        }
      ]
    },
    {
      "cell_type": "code",
      "source": [
        "# 6\n",
        "#The number of fruits in a shop\n",
        "shop={\"apple\":\"40\", \"orange\":\"43\", \"pawpaw\":\"18\", \"pineapple\":\"15\", \"onions\":\"9\", \"banana\":\"51\", \"pear\":\"38\"}\n",
        "print(shop)\n"
      ],
      "metadata": {
        "colab": {
          "base_uri": "https://localhost:8080/"
        },
        "id": "zHw6GDggM2Kf",
        "outputId": "5b1de3fd-4968-4032-ab0f-015f14887770"
      },
      "execution_count": 60,
      "outputs": [
        {
          "output_type": "stream",
          "name": "stdout",
          "text": [
            "{'apple': '40', 'orange': '43', 'pawpaw': '18', 'pineapple': '15', 'onions': '9', 'banana': '51', 'pear': '38'}\n"
          ]
        }
      ]
    },
    {
      "cell_type": "code",
      "source": [
        "#the number of oranges in the shop\n",
        "a = shop[\"orange\"]\n",
        "print(a)"
      ],
      "metadata": {
        "colab": {
          "base_uri": "https://localhost:8080/"
        },
        "id": "L4aqX17LT6EQ",
        "outputId": "2c3742c0-37eb-4383-bfbc-e60bbd07a2c6"
      },
      "execution_count": 64,
      "outputs": [
        {
          "output_type": "stream",
          "name": "stdout",
          "text": [
            "43\n"
          ]
        }
      ]
    },
    {
      "cell_type": "code",
      "source": [
        "#updating the number of pears in te shop\n",
        "shop[\"pear\"] =\"6\"\n",
        "print(shop) "
      ],
      "metadata": {
        "colab": {
          "base_uri": "https://localhost:8080/"
        },
        "id": "jfZ8EVLSVc2M",
        "outputId": "2fc36cb7-d39a-4984-ab58-ae3515639362"
      },
      "execution_count": 66,
      "outputs": [
        {
          "output_type": "stream",
          "name": "stdout",
          "text": [
            "{'apple': '40', 'orange': '43', 'pawpaw': '18', 'pineapple': '15', 'onions': '9', 'banana': '51', 'pear': '6'}\n"
          ]
        }
      ]
    },
    {
      "cell_type": "code",
      "source": [
        "#adding up the number of apples and banana\n",
        "a = shop[\"apple\"]\n",
        "b = shop[\"banana\"]\n",
        "c = a + b\n",
        "print(a)\n",
        "print(b)\n",
        "print (c)"
      ],
      "metadata": {
        "colab": {
          "base_uri": "https://localhost:8080/"
        },
        "id": "0sxIJxx3WHo8",
        "outputId": "fbdab529-5893-424f-a3ec-9f660a6263dc"
      },
      "execution_count": 74,
      "outputs": [
        {
          "output_type": "stream",
          "name": "stdout",
          "text": [
            "40\n",
            "51\n",
            "4051\n"
          ]
        }
      ]
    },
    {
      "cell_type": "code",
      "source": [
        "#7 \n",
        "#creating a tuple that stores number from 15 to 21\n",
        "number=()\n",
        "for i in range(15,22):\n",
        "  number=(number,i)\n",
        "print(number)"
      ],
      "metadata": {
        "colab": {
          "base_uri": "https://localhost:8080/"
        },
        "id": "a_Ko6EUcYvC6",
        "outputId": "edcd8b2f-57ab-466f-aeac-a266f2a36918"
      },
      "execution_count": 79,
      "outputs": [
        {
          "output_type": "stream",
          "name": "stdout",
          "text": [
            "((((((((), 15), 16), 17), 18), 19), 20), 21)\n"
          ]
        }
      ]
    },
    {
      "cell_type": "code",
      "source": [
        "#8 Getting unique values\n",
        "\n",
        "num=[1,1,2,2,2,3,3,3,4,4,5,5,5]\n",
        "num = list(set(num))\n",
        "print(num)"
      ],
      "metadata": {
        "colab": {
          "base_uri": "https://localhost:8080/"
        },
        "id": "7sENmlJQbEsK",
        "outputId": "4e4f636e-51c6-4dc1-c960-29aa92a4bf66"
      },
      "execution_count": 83,
      "outputs": [
        {
          "output_type": "stream",
          "name": "stdout",
          "text": [
            "[1, 2, 3, 4, 5]\n"
          ]
        }
      ]
    },
    {
      "cell_type": "code",
      "source": [
        "#Comparing umbers \n",
        "num1 = 7\n",
        "num2 = 12\n",
        "if num1 > num2:\n",
        "  print(\"num1 is greater than num2\")\n",
        "elif num1 < num2:\n",
        "  print(\"num1 is less than num2\")\n",
        "else:\n",
        "  print(\"num1 and num2 are equal\")\n"
      ],
      "metadata": {
        "colab": {
          "base_uri": "https://localhost:8080/"
        },
        "id": "4LzJCBIId_4Z",
        "outputId": "18e54d67-2415-42d2-b30d-f395eedc3b82"
      },
      "execution_count": 86,
      "outputs": [
        {
          "output_type": "stream",
          "name": "stdout",
          "text": [
            "num1 is less than num2\n"
          ]
        }
      ]
    },
    {
      "cell_type": "code",
      "source": [
        "val1 = 4 * 5 - 6\n",
        "val2 = (2 + 1) * 5\n",
        "if val1 > val2:\n",
        "  print(\"The val1 is greater than val2\")\n",
        "elif val1 < val2:\n",
        "  print(\"Python programming is sweet and interesting, infact it will make you wise as a serpent\")\n",
        "else:\n",
        "  print(\"Thank you and GOD bless you\")"
      ],
      "metadata": {
        "colab": {
          "base_uri": "https://localhost:8080/"
        },
        "id": "Xnaygt91f6Uj",
        "outputId": "1250eede-e87b-41fa-d497-2d50c49fdae3"
      },
      "execution_count": 88,
      "outputs": [
        {
          "output_type": "stream",
          "name": "stdout",
          "text": [
            "Python programming is sweet and interesting, infact it will make you wise as a serpent\n"
          ]
        }
      ]
    },
    {
      "cell_type": "code",
      "source": [
        ""
      ],
      "metadata": {
        "id": "Ya0QKnvfh9e6"
      },
      "execution_count": null,
      "outputs": []
    }
  ]
}